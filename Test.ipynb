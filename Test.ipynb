{
 "metadata": {
  "language_info": {
   "codemirror_mode": {
    "name": "ipython",
    "version": 3
   },
   "file_extension": ".py",
   "mimetype": "text/x-python",
   "name": "python",
   "nbconvert_exporter": "python",
   "pygments_lexer": "ipython3",
   "version": "3.8.5"
  },
  "orig_nbformat": 2,
  "kernelspec": {
   "name": "python3",
   "display_name": "Python 3.8.5 64-bit ('base': conda)",
   "metadata": {
    "interpreter": {
     "hash": "4c16d4709914fb96df173483f15d375ad59ae5b8d3e471a3f8edc161b856b714"
    }
   }
  }
 },
 "nbformat": 4,
 "nbformat_minor": 2,
 "cells": [
  {
   "cell_type": "code",
   "execution_count": 1,
   "metadata": {},
   "outputs": [],
   "source": [
    "from DataLoader import ImageDataset\n",
    "import torch"
   ]
  },
  {
   "cell_type": "code",
   "execution_count": 2,
   "metadata": {},
   "outputs": [
    {
     "output_type": "stream",
     "name": "stdout",
     "text": [
      "torch.Size([64, 3, 128, 128]) torch.Size([64])\n",
      "torch.Size([64, 3, 128, 128]) torch.Size([64])\n",
      "torch.Size([64, 3, 128, 128]) torch.Size([64])\n",
      "torch.Size([64, 3, 128, 128]) torch.Size([64])\n",
      "torch.Size([64, 3, 128, 128]) torch.Size([64])\n",
      "torch.Size([64, 3, 128, 128]) torch.Size([64])\n",
      "torch.Size([64, 3, 128, 128]) torch.Size([64])\n",
      "torch.Size([64, 3, 128, 128]) torch.Size([64])\n",
      "torch.Size([34, 3, 128, 128]) torch.Size([34])\n"
     ]
    }
   ],
   "source": [
    "test = ImageDataset('./images/*')\n",
    "dataloader = torch.utils.data.DataLoader(test, batch_size=64)\n",
    "for X, y in dataloader:\n",
    "    print(X.shape, y.shape)"
   ]
  },
  {
   "cell_type": "code",
   "execution_count": null,
   "metadata": {},
   "outputs": [],
   "source": []
  }
 ]
}